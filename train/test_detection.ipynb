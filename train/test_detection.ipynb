{
 "cells": [
  {
   "cell_type": "code",
   "execution_count": 1,
   "id": "8aded648",
   "metadata": {},
   "outputs": [],
   "source": [
    "from ultralytics import YOLO"
   ]
  },
  {
   "cell_type": "code",
   "execution_count": 7,
   "id": "0ea2420d",
   "metadata": {},
   "outputs": [
    {
     "name": "stdout",
     "output_type": "stream",
     "text": [
      "\n",
      "image 1/1 /Users/Chen/project/DL_exercise/learn_YOLO/tmp.jpg: 640x480 1 person, 77.4ms\n",
      "Speed: 3.2ms preprocess, 77.4ms inference, 0.8ms postprocess per image at shape (1, 3, 640, 480)\n"
     ]
    }
   ],
   "source": [
    "# Load a pretrained YOLOv8n model\n",
    "model = YOLO(\"BP_location_out/202409233/weights/best.pt\")\n",
    "\n",
    "# Define path to the image file\n",
    "source = \"tmp.jpg\"\n",
    "\n",
    "# Run inference on the source\n",
    "results = model(source)  # list of Results objects"
   ]
  },
  {
   "cell_type": "code",
   "execution_count": 8,
   "id": "48f38a3f",
   "metadata": {},
   "outputs": [],
   "source": [
    "results[0].show()"
   ]
  },
  {
   "cell_type": "code",
   "execution_count": null,
   "id": "bfaa5e4f",
   "metadata": {},
   "outputs": [],
   "source": []
  }
 ],
 "metadata": {
  "kernelspec": {
   "display_name": "Python [conda env:basicDL_n_BPreader]",
   "language": "python",
   "name": "conda-env-basicDL_n_BPreader-py"
  },
  "language_info": {
   "codemirror_mode": {
    "name": "ipython",
    "version": 3
   },
   "file_extension": ".py",
   "mimetype": "text/x-python",
   "name": "python",
   "nbconvert_exporter": "python",
   "pygments_lexer": "ipython3",
   "version": "3.9.12"
  }
 },
 "nbformat": 4,
 "nbformat_minor": 5
}
